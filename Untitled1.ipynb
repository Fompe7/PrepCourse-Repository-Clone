{
  "nbformat": 4,
  "nbformat_minor": 0,
  "metadata": {
    "colab": {
      "provenance": [],
      "authorship_tag": "ABX9TyPTTvideT6a1p2hvQAQ98RV",
      "include_colab_link": true
    },
    "kernelspec": {
      "name": "python3",
      "display_name": "Python 3"
    },
    "language_info": {
      "name": "python"
    }
  },
  "cells": [
    {
      "cell_type": "markdown",
      "metadata": {
        "id": "view-in-github",
        "colab_type": "text"
      },
      "source": [
        "<a href=\"https://colab.research.google.com/github/Fompe7/PrepCourse-Repository-Clone/blob/main/Untitled1.ipynb\" target=\"_parent\"><img src=\"https://colab.research.google.com/assets/colab-badge.svg\" alt=\"Open In Colab\"/></a>"
      ]
    },
    {
      "cell_type": "code",
      "execution_count": 17,
      "metadata": {
        "id": "e0U_cLh5a5XQ"
      },
      "outputs": [],
      "source": [
        "import numpy as np #operaciones matematicas\n",
        "import matplotlib.pyplot as plt #hacer graficas\n",
        "import pandas as pd #leer y trabajar\n",
        "from sklearn.linear_model import LinearRegression #libreria para hacer regresiones lineales"
      ]
    },
    {
      "cell_type": "code",
      "source": [
        "pres = pd.read_excel('/content/edad_presion_sanguinea-1.xlsx')"
      ],
      "metadata": {
        "id": "iVYTP-qPbh7y"
      },
      "execution_count": 5,
      "outputs": []
    },
    {
      "cell_type": "code",
      "source": [
        "pres.head()"
      ],
      "metadata": {
        "colab": {
          "base_uri": "https://localhost:8080/",
          "height": 206
        },
        "id": "u7uNxNnxcoVc",
        "outputId": "f6b812b9-43f2-435f-c0c4-009704e3315d"
      },
      "execution_count": 6,
      "outputs": [
        {
          "output_type": "execute_result",
          "data": {
            "text/plain": [
              "   Edad  PSS\n",
              "0    44  142\n",
              "1    46  142\n",
              "2    42  138\n",
              "3    57  168\n",
              "4    21  120"
            ],
            "text/html": [
              "\n",
              "  <div id=\"df-27ad70d6-8717-46e3-aea3-cb4b52bb705f\">\n",
              "    <div class=\"colab-df-container\">\n",
              "      <div>\n",
              "<style scoped>\n",
              "    .dataframe tbody tr th:only-of-type {\n",
              "        vertical-align: middle;\n",
              "    }\n",
              "\n",
              "    .dataframe tbody tr th {\n",
              "        vertical-align: top;\n",
              "    }\n",
              "\n",
              "    .dataframe thead th {\n",
              "        text-align: right;\n",
              "    }\n",
              "</style>\n",
              "<table border=\"1\" class=\"dataframe\">\n",
              "  <thead>\n",
              "    <tr style=\"text-align: right;\">\n",
              "      <th></th>\n",
              "      <th>Edad</th>\n",
              "      <th>PSS</th>\n",
              "    </tr>\n",
              "  </thead>\n",
              "  <tbody>\n",
              "    <tr>\n",
              "      <th>0</th>\n",
              "      <td>44</td>\n",
              "      <td>142</td>\n",
              "    </tr>\n",
              "    <tr>\n",
              "      <th>1</th>\n",
              "      <td>46</td>\n",
              "      <td>142</td>\n",
              "    </tr>\n",
              "    <tr>\n",
              "      <th>2</th>\n",
              "      <td>42</td>\n",
              "      <td>138</td>\n",
              "    </tr>\n",
              "    <tr>\n",
              "      <th>3</th>\n",
              "      <td>57</td>\n",
              "      <td>168</td>\n",
              "    </tr>\n",
              "    <tr>\n",
              "      <th>4</th>\n",
              "      <td>21</td>\n",
              "      <td>120</td>\n",
              "    </tr>\n",
              "  </tbody>\n",
              "</table>\n",
              "</div>\n",
              "      <button class=\"colab-df-convert\" onclick=\"convertToInteractive('df-27ad70d6-8717-46e3-aea3-cb4b52bb705f')\"\n",
              "              title=\"Convert this dataframe to an interactive table.\"\n",
              "              style=\"display:none;\">\n",
              "        \n",
              "  <svg xmlns=\"http://www.w3.org/2000/svg\" height=\"24px\"viewBox=\"0 0 24 24\"\n",
              "       width=\"24px\">\n",
              "    <path d=\"M0 0h24v24H0V0z\" fill=\"none\"/>\n",
              "    <path d=\"M18.56 5.44l.94 2.06.94-2.06 2.06-.94-2.06-.94-.94-2.06-.94 2.06-2.06.94zm-11 1L8.5 8.5l.94-2.06 2.06-.94-2.06-.94L8.5 2.5l-.94 2.06-2.06.94zm10 10l.94 2.06.94-2.06 2.06-.94-2.06-.94-.94-2.06-.94 2.06-2.06.94z\"/><path d=\"M17.41 7.96l-1.37-1.37c-.4-.4-.92-.59-1.43-.59-.52 0-1.04.2-1.43.59L10.3 9.45l-7.72 7.72c-.78.78-.78 2.05 0 2.83L4 21.41c.39.39.9.59 1.41.59.51 0 1.02-.2 1.41-.59l7.78-7.78 2.81-2.81c.8-.78.8-2.07 0-2.86zM5.41 20L4 18.59l7.72-7.72 1.47 1.35L5.41 20z\"/>\n",
              "  </svg>\n",
              "      </button>\n",
              "      \n",
              "  <style>\n",
              "    .colab-df-container {\n",
              "      display:flex;\n",
              "      flex-wrap:wrap;\n",
              "      gap: 12px;\n",
              "    }\n",
              "\n",
              "    .colab-df-convert {\n",
              "      background-color: #E8F0FE;\n",
              "      border: none;\n",
              "      border-radius: 50%;\n",
              "      cursor: pointer;\n",
              "      display: none;\n",
              "      fill: #1967D2;\n",
              "      height: 32px;\n",
              "      padding: 0 0 0 0;\n",
              "      width: 32px;\n",
              "    }\n",
              "\n",
              "    .colab-df-convert:hover {\n",
              "      background-color: #E2EBFA;\n",
              "      box-shadow: 0px 1px 2px rgba(60, 64, 67, 0.3), 0px 1px 3px 1px rgba(60, 64, 67, 0.15);\n",
              "      fill: #174EA6;\n",
              "    }\n",
              "\n",
              "    [theme=dark] .colab-df-convert {\n",
              "      background-color: #3B4455;\n",
              "      fill: #D2E3FC;\n",
              "    }\n",
              "\n",
              "    [theme=dark] .colab-df-convert:hover {\n",
              "      background-color: #434B5C;\n",
              "      box-shadow: 0px 1px 3px 1px rgba(0, 0, 0, 0.15);\n",
              "      filter: drop-shadow(0px 1px 2px rgba(0, 0, 0, 0.3));\n",
              "      fill: #FFFFFF;\n",
              "    }\n",
              "  </style>\n",
              "\n",
              "      <script>\n",
              "        const buttonEl =\n",
              "          document.querySelector('#df-27ad70d6-8717-46e3-aea3-cb4b52bb705f button.colab-df-convert');\n",
              "        buttonEl.style.display =\n",
              "          google.colab.kernel.accessAllowed ? 'block' : 'none';\n",
              "\n",
              "        async function convertToInteractive(key) {\n",
              "          const element = document.querySelector('#df-27ad70d6-8717-46e3-aea3-cb4b52bb705f');\n",
              "          const dataTable =\n",
              "            await google.colab.kernel.invokeFunction('convertToInteractive',\n",
              "                                                     [key], {});\n",
              "          if (!dataTable) return;\n",
              "\n",
              "          const docLinkHtml = 'Like what you see? Visit the ' +\n",
              "            '<a target=\"_blank\" href=https://colab.research.google.com/notebooks/data_table.ipynb>data table notebook</a>'\n",
              "            + ' to learn more about interactive tables.';\n",
              "          element.innerHTML = '';\n",
              "          dataTable['output_type'] = 'display_data';\n",
              "          await google.colab.output.renderOutput(dataTable, element);\n",
              "          const docLink = document.createElement('div');\n",
              "          docLink.innerHTML = docLinkHtml;\n",
              "          element.appendChild(docLink);\n",
              "        }\n",
              "      </script>\n",
              "    </div>\n",
              "  </div>\n",
              "  "
            ]
          },
          "metadata": {},
          "execution_count": 6
        }
      ]
    },
    {
      "cell_type": "code",
      "source": [
        "plt.title(\"Distribucion de las edades\")\n",
        "plt.xlabel(\"Edades\")\n",
        "plt.ylabel(\"Frecuencias\")\n",
        "plt.hist(pres['Edad'],color = \"red\", bins = 6)\n",
        "plt.show()"
      ],
      "metadata": {
        "colab": {
          "base_uri": "https://localhost:8080/",
          "height": 295
        },
        "id": "26qJSGFsc7uU",
        "outputId": "48a222e1-cf3d-4d28-d16a-9836a7f48b0b"
      },
      "execution_count": 10,
      "outputs": [
        {
          "output_type": "display_data",
          "data": {
            "text/plain": [
              "<Figure size 432x288 with 1 Axes>"
            ],
            "image/png": "[encoded data removed]"
          },
          "metadata": {
            "needs_background": "light"
          }
        }
      ]
    },
    {
      "cell_type": "code",
      "source": [
        "plt.title(\"Distribucion de la presion de la sangre\")\n",
        "plt.xlabel(\"Presion Sanguinea\")\n",
        "plt.ylabel(\"Frecuencias\")\n",
        "plt.hist(pres['PSS'],color = \"red\", bins = 6)\n",
        "plt.show()"
      ],
      "metadata": {
        "colab": {
          "base_uri": "https://localhost:8080/",
          "height": 295
        },
        "id": "v_ynl9qeenv8",
        "outputId": "71648afb-0e1b-4d35-9b54-9182576a278d"
      },
      "execution_count": 12,
      "outputs": [
        {
          "output_type": "display_data",
          "data": {
            "text/plain": [
              "<Figure size 432x288 with 1 Axes>"
            ],
            "image/png": "[encoded data removed]"
          },
          "metadata": {
            "needs_background": "light"
          }
        }
      ]
    },
    {
      "cell_type": "code",
      "source": [
        "plt.scatter(pres[\"Edad\"],pres[\"PSS\"])"
      ],
      "metadata": {
        "colab": {
          "base_uri": "https://localhost:8080/",
          "height": 282
        },
        "id": "UjUqS_O7fFew",
        "outputId": "019a28d2-7602-4392-c338-7b360e894cf8"
      },
      "execution_count": 14,
      "outputs": [
        {
          "output_type": "execute_result",
          "data": {
            "text/plain": [
              "<matplotlib.collections.PathCollection at 0x7f9cce06a950>"
            ]
          },
          "metadata": {},
          "execution_count": 14
        },
        {
          "output_type": "display_data",
          "data": {
            "text/plain": [
              "<Figure size 432x288 with 1 Axes>"
            ],
            "image/png": "[encoded data removed]"
          },
          "metadata": {
            "needs_background": "light"
          }
        }
      ]
    },
    {
      "cell_type": "code",
      "source": [
        "pres[\"Edad\"]"
      ],
      "metadata": {
        "colab": {
          "base_uri": "https://localhost:8080/"
        },
        "id": "_rQ0YwAkjOo8",
        "outputId": "6de667f5-210e-44cd-d059-e35251c81bf3"
      },
      "execution_count": 20,
      "outputs": [
        {
          "output_type": "execute_result",
          "data": {
            "text/plain": [
              "0     44\n",
              "1     46\n",
              "2     42\n",
              "3     57\n",
              "4     21\n",
              "      ..\n",
              "64    47\n",
              "65    68\n",
              "66    56\n",
              "67    36\n",
              "68    41\n",
              "Name: Edad, Length: 69, dtype: int64"
            ]
          },
          "metadata": {},
          "execution_count": 20
        }
      ]
    },
    {
      "cell_type": "code",
      "source": [
        "edades = np.array(pres[\"Edad\"]).reshape(-1,1)\n",
        "edades"
      ],
      "metadata": {
        "colab": {
          "base_uri": "https://localhost:8080/"
        },
        "id": "lkj72qORjUoK",
        "outputId": "eaa136bb-585d-4174-e0a6-bf5df08cf81a"
      },
      "execution_count": 23,
      "outputs": [
        {
          "output_type": "execute_result",
          "data": {
            "text/plain": [
              "array([[44],\n",
              "       [46],\n",
              "       [42],\n",
              "       [57],\n",
              "       [21],\n",
              "       [65],\n",
              "       [47],\n",
              "       [51],\n",
              "       [65],\n",
              "       [70],\n",
              "       [19],\n",
              "       [22],\n",
              "       [39],\n",
              "       [48],\n",
              "       [56],\n",
              "       [65],\n",
              "       [42],\n",
              "       [56],\n",
              "       [29],\n",
              "       [41],\n",
              "       [17],\n",
              "       [39],\n",
              "       [53],\n",
              "       [23],\n",
              "       [57],\n",
              "       [66],\n",
              "       [25],\n",
              "       [67],\n",
              "       [31],\n",
              "       [50],\n",
              "       [47],\n",
              "       [50],\n",
              "       [20],\n",
              "       [33],\n",
              "       [48],\n",
              "       [64],\n",
              "       [51],\n",
              "       [62],\n",
              "       [44],\n",
              "       [33],\n",
              "       [45],\n",
              "       [52],\n",
              "       [60],\n",
              "       [39],\n",
              "       [26],\n",
              "       [47],\n",
              "       [59],\n",
              "       [55],\n",
              "       [19],\n",
              "       [38],\n",
              "       [42],\n",
              "       [59],\n",
              "       [63],\n",
              "       [35],\n",
              "       [45],\n",
              "       [61],\n",
              "       [61],\n",
              "       [69],\n",
              "       [41],\n",
              "       [67],\n",
              "       [40],\n",
              "       [29],\n",
              "       [68],\n",
              "       [36],\n",
              "       [47],\n",
              "       [68],\n",
              "       [56],\n",
              "       [36],\n",
              "       [41]])"
            ]
          },
          "metadata": {},
          "execution_count": 23
        }
      ]
    },
    {
      "cell_type": "code",
      "source": [
        "Blank = LinearRegression()\n",
        "Blank.fit(edades,pres[\"PSS\"])\n",
        "print(\"Cada año que cumples de vida tu presion sanguinea aumenta en\",Blank.coef_)\n",
        "print(\"La persona con 0 años deberia tener una presion sanguinea de\",Blank.intercept_)"
      ],
      "metadata": {
        "colab": {
          "base_uri": "https://localhost:8080/"
        },
        "id": "HuhRfaI6ifSj",
        "outputId": "ecd5c25f-d0f5-4add-a580-5a6a6ce55716"
      },
      "execution_count": 25,
      "outputs": [
        {
          "output_type": "stream",
          "name": "stdout",
          "text": [
            "Cada año que cumples de vida tu presion sanguinea aumenta en [1.03881503]\n",
            "La persona con 0 años deberia tener una presion sanguinea de 100.41221126212966\n"
          ]
        }
      ]
    },
    {
      "cell_type": "code",
      "source": [
        "valores_predichos = 100.41 + pres[\"Edad\"]*1.038\n",
        "print(valores_predichos)"
      ],
      "metadata": {
        "colab": {
          "base_uri": "https://localhost:8080/"
        },
        "id": "_B0ycAvfketK",
        "outputId": "4dc6b77c-a9e2-4cb1-e69a-b1ec970bc02f"
      },
      "execution_count": 26,
      "outputs": [
        {
          "output_type": "stream",
          "name": "stdout",
          "text": [
            "0     146.082\n",
            "1     148.158\n",
            "2     144.006\n",
            "3     159.576\n",
            "4     122.208\n",
            "       ...   \n",
            "64    149.196\n",
            "65    170.994\n",
            "66    158.538\n",
            "67    137.778\n",
            "68    142.968\n",
            "Name: Edad, Length: 69, dtype: float64\n"
          ]
        }
      ]
    },
    {
      "cell_type": "code",
      "source": [
        "plt.scatter(pres[\"Edad\"],pres[\"PSS\"])\n",
        "plt.scatter(pres[\"Edad\"],valores_predichos,marker = \"*\")\n",
        "plt.xlabel(\"Edades\")\n",
        "plt.ylabel(\"Presion Sanguinea\")\n",
        "plt.show()"
      ],
      "metadata": {
        "colab": {
          "base_uri": "https://localhost:8080/",
          "height": 279
        },
        "id": "5vH20QiJk9CK",
        "outputId": "f4f6a70b-9bc2-4129-fc9d-482e507130b3"
      },
      "execution_count": 30,
      "outputs": [
        {
          "output_type": "display_data",
          "data": {
            "text/plain": [
              "<Figure size 432x288 with 1 Axes>"
            ],
            "image/png": "[encoded data removed]"
          },
          "metadata": {
            "needs_background": "light"
          }
        }
      ]
    },
    {
      "cell_type": "markdown",
      "source": [
        "En la regresion hay un numerito que se llama $R^2$ y este numerito siempre esta entre $0$ y $1$, $0$ nos dice que nuestra prediccion es muy mala, y $1$ nos dice que nuestra regresion lineal es perfecta.\n",
        "\n",
        "El error de nuestra recta es $(valor \\_verdadero - valor\\_predicho)^2$"
      ],
      "metadata": {
        "id": "BXjfbMVmliKw"
      }
    },
    {
      "cell_type": "code",
      "source": [
        "Blank.score(edades,pres[\"PSS\"])"
      ],
      "metadata": {
        "colab": {
          "base_uri": "https://localhost:8080/"
        },
        "id": "sKNAOnAfmHUe",
        "outputId": "861e858e-ff8b-4c99-8bf2-eba39d5e0d48"
      },
      "execution_count": 31,
      "outputs": [
        {
          "output_type": "execute_result",
          "data": {
            "text/plain": [
              "0.6724097589810785"
            ]
          },
          "metadata": {},
          "execution_count": 31
        }
      ]
    }
  ]
}